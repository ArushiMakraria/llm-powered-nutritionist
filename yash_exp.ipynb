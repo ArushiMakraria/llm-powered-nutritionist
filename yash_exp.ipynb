{
 "cells": [
  {
   "cell_type": "code",
   "execution_count": 1,
   "metadata": {},
   "outputs": [
    {
     "data": {
      "text/plain": [
       "True"
      ]
     },
     "execution_count": 1,
     "metadata": {},
     "output_type": "execute_result"
    }
   ],
   "source": [
    "%load_ext autoreload\n",
    "%autoreload 2\n",
    "from langchain_core.prompts import PromptTemplate, ChatPromptTemplate\n",
    "from langchain_core.messages import HumanMessage, AIMessage, AIMessageChunk\n",
    "from langchain.memory import ConversationBufferMemory\n",
    "from langgraph.graph import StateGraph, END, START, MessagesState\n",
    "from langchain_experimental.tools.python.tool import PythonAstREPLTool\n",
    "import dotenv\n",
    "import pandas as pd\n",
    "import config\n",
    "import matplotlib.pyplot as plt\n",
    "import seaborn as sns\n",
    "import utils\n",
    "from typing import Sequence, Literal\n",
    "from typing_extensions import Annotated, TypedDict\n",
    "from langchain_core.messages import BaseMessage\n",
    "from langgraph.graph.message import add_messages\n",
    "from langgraph.prebuilt import create_react_agent\n",
    "from langchain_community.tools import DuckDuckGoSearchRun\n",
    "from langgraph.types import Command\n",
    "dotenv.load_dotenv()"
   ]
  },
  {
   "cell_type": "code",
   "execution_count": 2,
   "metadata": {},
   "outputs": [],
   "source": [
    "df = pd.read_csv(\"clean-food.csv\")"
   ]
  },
  {
   "cell_type": "code",
   "execution_count": 3,
   "metadata": {},
   "outputs": [],
   "source": [
    "recipe_prompt = ChatPromptTemplate(\n",
    "    [\n",
    "        (\"system\", config.AGENT_PROMPT_RECIPE),\n",
    "        (\"placeholder\", \"{messages}\"),\n",
    "    ],\n",
    "    partial_variables={\"df_str\": df.to_markdown(index=True)},  # Include the dataframe as markdown\n",
    ")"
   ]
  },
  {
   "cell_type": "code",
   "execution_count": 4,
   "metadata": {},
   "outputs": [],
   "source": [
    "visualize_prompt = ChatPromptTemplate(\n",
    "    [\n",
    "        (\"system\", config.AGENT_PROMPT_VISUALIZATION),\n",
    "        (\"placeholder\", \"{messages}\"),\n",
    "    ]\n",
    ")"
   ]
  },
  {
   "cell_type": "code",
   "execution_count": 5,
   "metadata": {},
   "outputs": [],
   "source": [
    "# system_prompt = \"You are a helpful bot named Fred.\""
   ]
  },
  {
   "cell_type": "code",
   "execution_count": 6,
   "metadata": {},
   "outputs": [],
   "source": [
    "\n",
    "\n",
    "class AgentState(TypedDict):\n",
    "    messages: Annotated[Sequence[BaseMessage], add_messages]\n",
    "    is_last_step: str"
   ]
  },
  {
   "cell_type": "code",
   "execution_count": 7,
   "metadata": {},
   "outputs": [],
   "source": [
    "recipe_agent = create_react_agent(\n",
    "    model=utils.get_llm(),\n",
    "    tools=[DuckDuckGoSearchRun()],\n",
    "    state_modifier=recipe_prompt,\n",
    "    # state_schema=AgentState\n",
    ")\n"
   ]
  },
  {
   "cell_type": "code",
   "execution_count": 8,
   "metadata": {},
   "outputs": [],
   "source": [
    "async def recipe_node(state: MessagesState) -> Command:\n",
    "    result = await recipe_agent.ainvoke(state)\n",
    "    return {\"messages\": result} \n",
    "    # return  \n",
    "    # Command(\n",
    "    #     update={\n",
    "    #         \"messages\": [\n",
    "    #             AIMessageChunk(content=result[\"messages\"][-1].content, name=\"recipe_node\")\n",
    "    #         ]\n",
    "    #     },\n",
    "    #     # goto=\"visual_agent\",\n",
    "    # )\n"
   ]
  },
  {
   "cell_type": "code",
   "execution_count": 9,
   "metadata": {},
   "outputs": [],
   "source": [
    "visual_agent = create_react_agent(\n",
    "    model=utils.get_llm(),\n",
    "    tools=[PythonAstREPLTool()],\n",
    "    state_modifier=visualize_prompt,\n",
    "    # state_schema=AgentState\n",
    ")"
   ]
  },
  {
   "cell_type": "code",
   "execution_count": 10,
   "metadata": {},
   "outputs": [],
   "source": [
    "async def visual_node(state: MessagesState) -> Command:\n",
    "    result = await visual_agent.ainvoke(state)\n",
    "    return {\"messages\": result} \n",
    "    # Command(\n",
    "    #     update={\n",
    "    #         \"messages\": [\n",
    "    #             AIMessageChunk(content=result[\"messages\"][-1].content, name=\"visual_node\")\n",
    "    #         ]\n",
    "    #     },\n",
    "    #     # goto=\"supervisor\",\n",
    "    # )"
   ]
  },
  {
   "cell_type": "code",
   "execution_count": 11,
   "metadata": {},
   "outputs": [],
   "source": [
    "graph = StateGraph(MessagesState)\n",
    "graph.add_node(\"recipe_node\", recipe_node)\n",
    "graph.add_node(\"visual_node\", visual_node)\n",
    "# graph.add_edge(START, \"recipe_node\")\n",
    "graph.add_edge(\"recipe_node\", \"visual_node\")\n",
    "# graph.add_edge(\"visual_node\", END)\n",
    "# graph.add_edge(\"visual_node\", END)\n",
    "\n",
    "graph.set_entry_point(\"recipe_node\")\n",
    "graph.set_finish_point(\"visual_node\")\n",
    "\n",
    "workflow = graph.compile()"
   ]
  },
  {
   "cell_type": "code",
   "execution_count": 12,
   "metadata": {},
   "outputs": [
    {
     "data": {
      "image/png": "[encoded data removed]",
      "text/plain": [
       "<IPython.core.display.Image object>"
      ]
     },
     "execution_count": 12,
     "metadata": {},
     "output_type": "execute_result"
    }
   ],
   "source": [
    "from IPython.display import display, Image\n",
    "Image(workflow.get_graph().draw_mermaid_png())"
   ]
  },
  {
   "cell_type": "code",
   "execution_count": 13,
   "metadata": {},
   "outputs": [
    {
     "data": {
      "text/html": [
       "<div>\n",
       "<style scoped>\n",
       "    .dataframe tbody tr th:only-of-type {\n",
       "        vertical-align: middle;\n",
       "    }\n",
       "\n",
       "    .dataframe tbody tr th {\n",
       "        vertical-align: top;\n",
       "    }\n",
       "\n",
       "    .dataframe thead th {\n",
       "        text-align: right;\n",
       "    }\n",
       "</style>\n",
       "<table border=\"1\" class=\"dataframe\">\n",
       "  <thead>\n",
       "    <tr style=\"text-align: right;\">\n",
       "      <th></th>\n",
       "      <th>Food</th>\n",
       "      <th>Nutrition Value (per 100g)</th>\n",
       "      <th>Quantity</th>\n",
       "      <th>Originated From</th>\n",
       "      <th>Calories</th>\n",
       "      <th>Protein (g)</th>\n",
       "      <th>Fiber (g)</th>\n",
       "      <th>Vitamin C (mg)</th>\n",
       "      <th>Antioxidant Score</th>\n",
       "      <th>Quantity (g)</th>\n",
       "    </tr>\n",
       "  </thead>\n",
       "  <tbody>\n",
       "  </tbody>\n",
       "</table>\n",
       "</div>"
      ],
      "text/plain": [
       "Empty DataFrame\n",
       "Columns: [Food, Nutrition Value (per 100g), Quantity, Originated From, Calories, Protein (g), Fiber (g), Vitamin C (mg), Antioxidant Score, Quantity (g)]\n",
       "Index: []"
      ]
     },
     "execution_count": 13,
     "metadata": {},
     "output_type": "execute_result"
    }
   ],
   "source": [
    "df[df['Food'].str.contains(\"cheese\")]"
   ]
  },
  {
   "cell_type": "code",
   "execution_count": 14,
   "metadata": {},
   "outputs": [],
   "source": [
    "inputs = {\n",
    "    \"messages\": [HumanMessage(content=\"I have Tomatoes, and Paneer. What can I make and how? Can you please search the internet and tell me?\")]\n",
    "}"
   ]
  },
  {
   "cell_type": "code",
   "execution_count": null,
   "metadata": {},
   "outputs": [],
   "source": []
  },
  {
   "cell_type": "code",
   "execution_count": 15,
   "metadata": {},
   "outputs": [
    {
     "ename": "ValueError",
     "evalue": "Message dict must contain 'role' and 'content' keys, got {'messages': [HumanMessage(content='I have Tomatoes, and Paneer. What can I make and how? Can you please search the internet and tell me?', additional_kwargs={}, response_metadata={}, id='65a8d428-e92a-43af-914c-7f4c0c5ea9a4'), AIMessage(content='', additional_kwargs={'function_call': {'name': 'duckduckgo_search', 'arguments': '{\"query\": \"paneer tomato recipe\"}'}}, response_metadata={'safety_ratings': [], 'finish_reason': 'STOP'}, id='run-2d840ae0-e5be-41fe-a654-c00c15061513-0', tool_calls=[{'name': 'duckduckgo_search', 'args': {'query': 'paneer tomato recipe'}, 'id': '0d271213-5172-4c16-b525-b94838c6a907', 'type': 'tool_call'}], usage_metadata={'input_tokens': 5889, 'output_tokens': 10, 'total_tokens': 5899}), ToolMessage(content='This Paneer Butter Masala recipe is a rich and creamy dish of paneer (Indian cottage cheese) in a tomato, butter and cashew sauce that is known here as \"makhani gravy.\" The acidity of the tomatoes and the sweetness of the cream make for a velvety, nearly addictive sauce. Paneer Butter Masala is one of India\\'s most popular paneer gravy recipes, and with good reason! Indian cottage cheese cubes are smothered in a creamy, lightly spiced tomato sauce that is downright delicious. With my video and step-by-step guide you can easily make this restaurant style Paneer Butter Masala recipe at home! About Paneer Butter About Paneer Makhani Recipe. Paneer Makhani is a delectable, traditional Indian dish made with cubes of cheese cooked in a rich and creamy tomato based sauce. The word makhani means \"buttery,\" and is derived from the word makhan which means \"homemade butter.\" This dish is the vegetarian version of Murgh Makhani, which is commonly known ... Pour in tomato purée and ketchup: Pour in 1 (14.25 ounce) can tomato puree and 1 tablespoon ketchup; thin with water to desired consistency. Stir in peas and paneer: Stir in 1 (16 ounce) package frozen peas, thawed, and 8 ounces paneer, cubed; cook until peas soften, 2 to 3 minutes. Paneer: Use store-bought paneer from the Indian grocery store here in the USA (refrigerated or frozen section).To soften paneer, soak in warm water for 10-15 minutes before use. You can also make fresh paneer at home if time permits.; Green Peas: Frozen peas are convenient and work well; fresh peas are an excellent choice if available.; Onion: Use red onions for the best flavor in Indian cooking.', name='duckduckgo_search', id='34ece44c-11ee-48dc-bd4e-336c096a461d', tool_call_id='0d271213-5172-4c16-b525-b94838c6a907'), AIMessage(content='Okay, I will create a recipe for Paneer Butter Masala, drawing inspiration from the search results, but focusing on a healthier approach.\\n\\n**Recipe Name:** Healthier Paneer Tomato Masala\\n\\n**Description:** A creamy and flavorful Indian dish with paneer (Indian cheese) in a rich tomato-based sauce, made healthier with less butter and cream.\\n\\n**Ingredients:**\\n\\n*   1 tbsp Olive Oil (19)\\n*   1 medium Onion, chopped (66)\\n*   2 cloves Garlic, minced (3)\\n*   1 inch Ginger, grated (18)\\n*   1 tsp Turmeric powder (12)\\n*   1 tsp ground Cumin\\n*   1/2 tsp ground Coriander\\n*   1/4 tsp Cayenne Pepper (74)\\n*   1 (14.5 oz) can diced Tomatoes (23)\\n*   1/2 cup Water\\n*   8 oz Paneer, cubed\\n*   1/4 cup Greek Yogurt (15)\\n*   1/4 cup chopped Cilantro\\n*   Salt to taste\\n\\n**Instructions:**\\n\\n1.  **Sauté Aromatics:** Heat olive oil in a pan over medium heat. Add chopped onion and sauté until golden brown. Add minced garlic and grated ginger, and cook for another minute until fragrant.\\n2.  **Add Spices:** Stir in turmeric powder, cumin, coriander, and cayenne pepper. Cook for 30 seconds until fragrant.\\n3.  **Tomato Base:** Add diced tomatoes and water. Bring to a simmer, then reduce heat and cook for 10 minutes, stirring occasionally, until the sauce thickens slightly.\\n4.  **Add Paneer:** Gently add the cubed paneer to the sauce. Simmer for 5 minutes, allowing the paneer to absorb the flavors.\\n5.  **Creamy Finish:** Stir in the Greek yogurt and chopped cilantro. Cook for another 2 minutes. Season with salt to taste.\\n6.  **Serve:** Serve hot with brown rice or whole wheat roti.\\n\\n**Prep Time:** 15 minutes\\n**Cook Time:** 25 minutes\\n**Total Time:** 40 minutes\\n\\n**Nutritional Analysis (per serving, assuming 4 servings):**\\n\\n*   **Calories:** Approximately 300-350\\n*   **Protein:** 20-25g\\n*   **Fat:** 15-20g\\n*   **Carbohydrates:** 20-25g\\n*   **Fiber:** 5-7g\\n\\n**Notes:**\\n\\n*   For a richer flavor, you can add a small amount of butter (1 tsp) along with the olive oil.\\n*   Adjust the amount of cayenne pepper to your spice preference.\\n*   You can add a pinch of garam masala at the end for extra flavor.\\n*   Serve with a side of brown rice or whole wheat roti for a complete meal.\\n\\nThis recipe provides a balance of protein, healthy fats, and complex carbohydrates, making it a nutritious and satisfying meal.\\n', additional_kwargs={}, response_metadata={'safety_ratings': [], 'finish_reason': 'STOP'}, id='run-9325198c-ff08-4fce-8c39-c4f02609e9f0-0', usage_metadata={'input_tokens': 6275, 'output_tokens': 641, 'total_tokens': 6916})]}\nFor troubleshooting, visit: https://python.langchain.com/docs/troubleshooting/errors/MESSAGE_COERCION_FAILURE ",
     "output_type": "error",
     "traceback": [
      "\u001b[0;31m---------------------------------------------------------------------------\u001b[0m",
      "\u001b[0;31mKeyError\u001b[0m                                  Traceback (most recent call last)",
      "File \u001b[0;32m~/miniconda3/envs/nlp/lib/python3.10/site-packages/langchain_core/messages/utils.py:316\u001b[0m, in \u001b[0;36m_convert_to_message\u001b[0;34m(message)\u001b[0m\n\u001b[1;32m    315\u001b[0m \u001b[38;5;28;01mtry\u001b[39;00m:\n\u001b[0;32m--> 316\u001b[0m     msg_type \u001b[38;5;241m=\u001b[39m \u001b[43mmsg_kwargs\u001b[49m\u001b[38;5;241;43m.\u001b[39;49m\u001b[43mpop\u001b[49m\u001b[43m(\u001b[49m\u001b[38;5;124;43m\"\u001b[39;49m\u001b[38;5;124;43mrole\u001b[39;49m\u001b[38;5;124;43m\"\u001b[39;49m\u001b[43m)\u001b[49m\n\u001b[1;32m    317\u001b[0m \u001b[38;5;28;01mexcept\u001b[39;00m \u001b[38;5;167;01mKeyError\u001b[39;00m:\n",
      "\u001b[0;31mKeyError\u001b[0m: 'role'",
      "\nDuring handling of the above exception, another exception occurred:\n",
      "\u001b[0;31mKeyError\u001b[0m                                  Traceback (most recent call last)",
      "File \u001b[0;32m~/miniconda3/envs/nlp/lib/python3.10/site-packages/langchain_core/messages/utils.py:318\u001b[0m, in \u001b[0;36m_convert_to_message\u001b[0;34m(message)\u001b[0m\n\u001b[1;32m    317\u001b[0m \u001b[38;5;28;01mexcept\u001b[39;00m \u001b[38;5;167;01mKeyError\u001b[39;00m:\n\u001b[0;32m--> 318\u001b[0m     msg_type \u001b[38;5;241m=\u001b[39m \u001b[43mmsg_kwargs\u001b[49m\u001b[38;5;241;43m.\u001b[39;49m\u001b[43mpop\u001b[49m\u001b[43m(\u001b[49m\u001b[38;5;124;43m\"\u001b[39;49m\u001b[38;5;124;43mtype\u001b[39;49m\u001b[38;5;124;43m\"\u001b[39;49m\u001b[43m)\u001b[49m\n\u001b[1;32m    319\u001b[0m \u001b[38;5;66;03m# None msg content is not allowed\u001b[39;00m\n",
      "\u001b[0;31mKeyError\u001b[0m: 'type'",
      "\nThe above exception was the direct cause of the following exception:\n",
      "\u001b[0;31mValueError\u001b[0m                                Traceback (most recent call last)",
      "Cell \u001b[0;32mIn[15], line 3\u001b[0m\n\u001b[1;32m      1\u001b[0m \u001b[38;5;66;03m# for s in workflow.stream(inputs, stream_mode=\"messages-tuple\"):\u001b[39;00m\n\u001b[1;32m      2\u001b[0m first \u001b[38;5;241m=\u001b[39m \u001b[38;5;28;01mTrue\u001b[39;00m\n\u001b[0;32m----> 3\u001b[0m \u001b[38;5;28;01masync\u001b[39;00m \u001b[38;5;28;01mfor\u001b[39;00m msg, metadata \u001b[38;5;129;01min\u001b[39;00m workflow\u001b[38;5;241m.\u001b[39mastream(inputs, stream_mode\u001b[38;5;241m=\u001b[39m\u001b[38;5;124m\"\u001b[39m\u001b[38;5;124mmessages\u001b[39m\u001b[38;5;124m\"\u001b[39m):\n\u001b[1;32m      4\u001b[0m     \u001b[38;5;28;01mif\u001b[39;00m msg\u001b[38;5;241m.\u001b[39mcontent \u001b[38;5;129;01mand\u001b[39;00m \u001b[38;5;129;01mnot\u001b[39;00m \u001b[38;5;28misinstance\u001b[39m(msg, HumanMessage):\n\u001b[1;32m      5\u001b[0m         \u001b[38;5;28mprint\u001b[39m(msg\u001b[38;5;241m.\u001b[39mcontent, end\u001b[38;5;241m=\u001b[39m\u001b[38;5;124m\"\u001b[39m\u001b[38;5;124m|\u001b[39m\u001b[38;5;124m\"\u001b[39m, flush\u001b[38;5;241m=\u001b[39m\u001b[38;5;28;01mTrue\u001b[39;00m)\n",
      "File \u001b[0;32m~/miniconda3/envs/nlp/lib/python3.10/site-packages/langgraph/pregel/__init__.py:1873\u001b[0m, in \u001b[0;36mPregel.astream\u001b[0;34m(self, input, config, stream_mode, output_keys, interrupt_before, interrupt_after, debug, subgraphs)\u001b[0m\n\u001b[1;32m   1867\u001b[0m     get_waiter \u001b[38;5;241m=\u001b[39m \u001b[38;5;28;01mNone\u001b[39;00m  \u001b[38;5;66;03m# type: ignore[assignment]\u001b[39;00m\n\u001b[1;32m   1868\u001b[0m \u001b[38;5;66;03m# Similarly to Bulk Synchronous Parallel / Pregel model\u001b[39;00m\n\u001b[1;32m   1869\u001b[0m \u001b[38;5;66;03m# computation proceeds in steps, while there are channel updates\u001b[39;00m\n\u001b[1;32m   1870\u001b[0m \u001b[38;5;66;03m# channel updates from step N are only visible in step N+1\u001b[39;00m\n\u001b[1;32m   1871\u001b[0m \u001b[38;5;66;03m# channels are guaranteed to be immutable for the duration of the step,\u001b[39;00m\n\u001b[1;32m   1872\u001b[0m \u001b[38;5;66;03m# with channel updates applied only at the transition between steps\u001b[39;00m\n\u001b[0;32m-> 1873\u001b[0m \u001b[38;5;28;01mwhile\u001b[39;00m \u001b[43mloop\u001b[49m\u001b[38;5;241;43m.\u001b[39;49m\u001b[43mtick\u001b[49m\u001b[43m(\u001b[49m\u001b[43minput_keys\u001b[49m\u001b[38;5;241;43m=\u001b[39;49m\u001b[38;5;28;43mself\u001b[39;49m\u001b[38;5;241;43m.\u001b[39;49m\u001b[43minput_channels\u001b[49m\u001b[43m)\u001b[49m:\n\u001b[1;32m   1874\u001b[0m     \u001b[38;5;28;01masync\u001b[39;00m \u001b[38;5;28;01mfor\u001b[39;00m _ \u001b[38;5;129;01min\u001b[39;00m runner\u001b[38;5;241m.\u001b[39matick(\n\u001b[1;32m   1875\u001b[0m         loop\u001b[38;5;241m.\u001b[39mtasks\u001b[38;5;241m.\u001b[39mvalues(),\n\u001b[1;32m   1876\u001b[0m         timeout\u001b[38;5;241m=\u001b[39m\u001b[38;5;28mself\u001b[39m\u001b[38;5;241m.\u001b[39mstep_timeout,\n\u001b[0;32m   (...)\u001b[0m\n\u001b[1;32m   1879\u001b[0m     ):\n\u001b[1;32m   1880\u001b[0m         \u001b[38;5;66;03m# emit output\u001b[39;00m\n\u001b[1;32m   1881\u001b[0m         \u001b[38;5;28;01mfor\u001b[39;00m o \u001b[38;5;129;01min\u001b[39;00m output():\n",
      "File \u001b[0;32m~/miniconda3/envs/nlp/lib/python3.10/site-packages/langgraph/pregel/loop.py:386\u001b[0m, in \u001b[0;36mPregelLoop.tick\u001b[0;34m(self, input_keys)\u001b[0m\n\u001b[1;32m    376\u001b[0m     print_step_writes(\n\u001b[1;32m    377\u001b[0m         \u001b[38;5;28mself\u001b[39m\u001b[38;5;241m.\u001b[39mstep,\n\u001b[1;32m    378\u001b[0m         writes,\n\u001b[0;32m   (...)\u001b[0m\n\u001b[1;32m    383\u001b[0m         ),\n\u001b[1;32m    384\u001b[0m     )\n\u001b[1;32m    385\u001b[0m \u001b[38;5;66;03m# all tasks have finished\u001b[39;00m\n\u001b[0;32m--> 386\u001b[0m mv_writes \u001b[38;5;241m=\u001b[39m \u001b[43mapply_writes\u001b[49m\u001b[43m(\u001b[49m\n\u001b[1;32m    387\u001b[0m \u001b[43m    \u001b[49m\u001b[38;5;28;43mself\u001b[39;49m\u001b[38;5;241;43m.\u001b[39;49m\u001b[43mcheckpoint\u001b[49m\u001b[43m,\u001b[49m\n\u001b[1;32m    388\u001b[0m \u001b[43m    \u001b[49m\u001b[38;5;28;43mself\u001b[39;49m\u001b[38;5;241;43m.\u001b[39;49m\u001b[43mchannels\u001b[49m\u001b[43m,\u001b[49m\n\u001b[1;32m    389\u001b[0m \u001b[43m    \u001b[49m\u001b[38;5;28;43mself\u001b[39;49m\u001b[38;5;241;43m.\u001b[39;49m\u001b[43mtasks\u001b[49m\u001b[38;5;241;43m.\u001b[39;49m\u001b[43mvalues\u001b[49m\u001b[43m(\u001b[49m\u001b[43m)\u001b[49m\u001b[43m,\u001b[49m\n\u001b[1;32m    390\u001b[0m \u001b[43m    \u001b[49m\u001b[38;5;28;43mself\u001b[39;49m\u001b[38;5;241;43m.\u001b[39;49m\u001b[43mcheckpointer_get_next_version\u001b[49m\u001b[43m,\u001b[49m\n\u001b[1;32m    391\u001b[0m \u001b[43m\u001b[49m\u001b[43m)\u001b[49m\n\u001b[1;32m    392\u001b[0m \u001b[38;5;66;03m# apply writes to managed values\u001b[39;00m\n\u001b[1;32m    393\u001b[0m \u001b[38;5;28;01mfor\u001b[39;00m key, values \u001b[38;5;129;01min\u001b[39;00m mv_writes\u001b[38;5;241m.\u001b[39mitems():\n",
      "File \u001b[0;32m~/miniconda3/envs/nlp/lib/python3.10/site-packages/langgraph/pregel/algo.py:293\u001b[0m, in \u001b[0;36mapply_writes\u001b[0;34m(checkpoint, channels, tasks, get_next_version)\u001b[0m\n\u001b[1;32m    291\u001b[0m \u001b[38;5;28;01mfor\u001b[39;00m chan, vals \u001b[38;5;129;01min\u001b[39;00m pending_writes_by_channel\u001b[38;5;241m.\u001b[39mitems():\n\u001b[1;32m    292\u001b[0m     \u001b[38;5;28;01mif\u001b[39;00m chan \u001b[38;5;129;01min\u001b[39;00m channels:\n\u001b[0;32m--> 293\u001b[0m         \u001b[38;5;28;01mif\u001b[39;00m \u001b[43mchannels\u001b[49m\u001b[43m[\u001b[49m\u001b[43mchan\u001b[49m\u001b[43m]\u001b[49m\u001b[38;5;241;43m.\u001b[39;49m\u001b[43mupdate\u001b[49m\u001b[43m(\u001b[49m\u001b[43mvals\u001b[49m\u001b[43m)\u001b[49m \u001b[38;5;129;01mand\u001b[39;00m get_next_version \u001b[38;5;129;01mis\u001b[39;00m \u001b[38;5;129;01mnot\u001b[39;00m \u001b[38;5;28;01mNone\u001b[39;00m:\n\u001b[1;32m    294\u001b[0m             checkpoint[\u001b[38;5;124m\"\u001b[39m\u001b[38;5;124mchannel_versions\u001b[39m\u001b[38;5;124m\"\u001b[39m][chan] \u001b[38;5;241m=\u001b[39m get_next_version(\n\u001b[1;32m    295\u001b[0m                 max_version,\n\u001b[1;32m    296\u001b[0m                 channels[chan],\n\u001b[1;32m    297\u001b[0m             )\n\u001b[1;32m    298\u001b[0m         updated_channels\u001b[38;5;241m.\u001b[39madd(chan)\n",
      "File \u001b[0;32m~/miniconda3/envs/nlp/lib/python3.10/site-packages/langgraph/channels/binop.py:88\u001b[0m, in \u001b[0;36mBinaryOperatorAggregate.update\u001b[0;34m(self, values)\u001b[0m\n\u001b[1;32m     86\u001b[0m     values \u001b[38;5;241m=\u001b[39m values[\u001b[38;5;241m1\u001b[39m:]\n\u001b[1;32m     87\u001b[0m \u001b[38;5;28;01mfor\u001b[39;00m value \u001b[38;5;129;01min\u001b[39;00m values:\n\u001b[0;32m---> 88\u001b[0m     \u001b[38;5;28mself\u001b[39m\u001b[38;5;241m.\u001b[39mvalue \u001b[38;5;241m=\u001b[39m \u001b[38;5;28;43mself\u001b[39;49m\u001b[38;5;241;43m.\u001b[39;49m\u001b[43moperator\u001b[49m\u001b[43m(\u001b[49m\u001b[38;5;28;43mself\u001b[39;49m\u001b[38;5;241;43m.\u001b[39;49m\u001b[43mvalue\u001b[49m\u001b[43m,\u001b[49m\u001b[43m \u001b[49m\u001b[43mvalue\u001b[49m\u001b[43m)\u001b[49m\n\u001b[1;32m     89\u001b[0m \u001b[38;5;28;01mreturn\u001b[39;00m \u001b[38;5;28;01mTrue\u001b[39;00m\n",
      "File \u001b[0;32m~/miniconda3/envs/nlp/lib/python3.10/site-packages/langgraph/graph/message.py:76\u001b[0m, in \u001b[0;36madd_messages\u001b[0;34m(left, right)\u001b[0m\n\u001b[1;32m     69\u001b[0m \u001b[38;5;66;03m# coerce to message\u001b[39;00m\n\u001b[1;32m     70\u001b[0m left \u001b[38;5;241m=\u001b[39m [\n\u001b[1;32m     71\u001b[0m     message_chunk_to_message(cast(BaseMessageChunk, m))\n\u001b[1;32m     72\u001b[0m     \u001b[38;5;28;01mfor\u001b[39;00m m \u001b[38;5;129;01min\u001b[39;00m convert_to_messages(left)\n\u001b[1;32m     73\u001b[0m ]\n\u001b[1;32m     74\u001b[0m right \u001b[38;5;241m=\u001b[39m [\n\u001b[1;32m     75\u001b[0m     message_chunk_to_message(cast(BaseMessageChunk, m))\n\u001b[0;32m---> 76\u001b[0m     \u001b[38;5;28;01mfor\u001b[39;00m m \u001b[38;5;129;01min\u001b[39;00m \u001b[43mconvert_to_messages\u001b[49m\u001b[43m(\u001b[49m\u001b[43mright\u001b[49m\u001b[43m)\u001b[49m\n\u001b[1;32m     77\u001b[0m ]\n\u001b[1;32m     78\u001b[0m \u001b[38;5;66;03m# assign missing ids\u001b[39;00m\n\u001b[1;32m     79\u001b[0m \u001b[38;5;28;01mfor\u001b[39;00m m \u001b[38;5;129;01min\u001b[39;00m left:\n",
      "File \u001b[0;32m~/miniconda3/envs/nlp/lib/python3.10/site-packages/langchain_core/messages/utils.py:354\u001b[0m, in \u001b[0;36mconvert_to_messages\u001b[0;34m(messages)\u001b[0m\n\u001b[1;32m    352\u001b[0m \u001b[38;5;28;01mif\u001b[39;00m \u001b[38;5;28misinstance\u001b[39m(messages, PromptValue):\n\u001b[1;32m    353\u001b[0m     \u001b[38;5;28;01mreturn\u001b[39;00m messages\u001b[38;5;241m.\u001b[39mto_messages()\n\u001b[0;32m--> 354\u001b[0m \u001b[38;5;28;01mreturn\u001b[39;00m [_convert_to_message(m) \u001b[38;5;28;01mfor\u001b[39;00m m \u001b[38;5;129;01min\u001b[39;00m messages]\n",
      "File \u001b[0;32m~/miniconda3/envs/nlp/lib/python3.10/site-packages/langchain_core/messages/utils.py:354\u001b[0m, in \u001b[0;36m<listcomp>\u001b[0;34m(.0)\u001b[0m\n\u001b[1;32m    352\u001b[0m \u001b[38;5;28;01mif\u001b[39;00m \u001b[38;5;28misinstance\u001b[39m(messages, PromptValue):\n\u001b[1;32m    353\u001b[0m     \u001b[38;5;28;01mreturn\u001b[39;00m messages\u001b[38;5;241m.\u001b[39mto_messages()\n\u001b[0;32m--> 354\u001b[0m \u001b[38;5;28;01mreturn\u001b[39;00m [\u001b[43m_convert_to_message\u001b[49m\u001b[43m(\u001b[49m\u001b[43mm\u001b[49m\u001b[43m)\u001b[49m \u001b[38;5;28;01mfor\u001b[39;00m m \u001b[38;5;129;01min\u001b[39;00m messages]\n",
      "File \u001b[0;32m~/miniconda3/envs/nlp/lib/python3.10/site-packages/langchain_core/messages/utils.py:326\u001b[0m, in \u001b[0;36m_convert_to_message\u001b[0;34m(message)\u001b[0m\n\u001b[1;32m    322\u001b[0m         msg \u001b[38;5;241m=\u001b[39m \u001b[38;5;124mf\u001b[39m\u001b[38;5;124m\"\u001b[39m\u001b[38;5;124mMessage dict must contain \u001b[39m\u001b[38;5;124m'\u001b[39m\u001b[38;5;124mrole\u001b[39m\u001b[38;5;124m'\u001b[39m\u001b[38;5;124m and \u001b[39m\u001b[38;5;124m'\u001b[39m\u001b[38;5;124mcontent\u001b[39m\u001b[38;5;124m'\u001b[39m\u001b[38;5;124m keys, got \u001b[39m\u001b[38;5;132;01m{\u001b[39;00mmessage\u001b[38;5;132;01m}\u001b[39;00m\u001b[38;5;124m\"\u001b[39m\n\u001b[1;32m    323\u001b[0m         msg \u001b[38;5;241m=\u001b[39m create_message(\n\u001b[1;32m    324\u001b[0m             message\u001b[38;5;241m=\u001b[39mmsg, error_code\u001b[38;5;241m=\u001b[39mErrorCode\u001b[38;5;241m.\u001b[39mMESSAGE_COERCION_FAILURE\n\u001b[1;32m    325\u001b[0m         )\n\u001b[0;32m--> 326\u001b[0m         \u001b[38;5;28;01mraise\u001b[39;00m \u001b[38;5;167;01mValueError\u001b[39;00m(msg) \u001b[38;5;28;01mfrom\u001b[39;00m \u001b[38;5;21;01me\u001b[39;00m\n\u001b[1;32m    327\u001b[0m     _message \u001b[38;5;241m=\u001b[39m _create_message_from_message_type(\n\u001b[1;32m    328\u001b[0m         msg_type, msg_content, \u001b[38;5;241m*\u001b[39m\u001b[38;5;241m*\u001b[39mmsg_kwargs\n\u001b[1;32m    329\u001b[0m     )\n\u001b[1;32m    330\u001b[0m \u001b[38;5;28;01melse\u001b[39;00m:\n",
      "\u001b[0;31mValueError\u001b[0m: Message dict must contain 'role' and 'content' keys, got {'messages': [HumanMessage(content='I have Tomatoes, and Paneer. What can I make and how? Can you please search the internet and tell me?', additional_kwargs={}, response_metadata={}, id='65a8d428-e92a-43af-914c-7f4c0c5ea9a4'), AIMessage(content='', additional_kwargs={'function_call': {'name': 'duckduckgo_search', 'arguments': '{\"query\": \"paneer tomato recipe\"}'}}, response_metadata={'safety_ratings': [], 'finish_reason': 'STOP'}, id='run-2d840ae0-e5be-41fe-a654-c00c15061513-0', tool_calls=[{'name': 'duckduckgo_search', 'args': {'query': 'paneer tomato recipe'}, 'id': '0d271213-5172-4c16-b525-b94838c6a907', 'type': 'tool_call'}], usage_metadata={'input_tokens': 5889, 'output_tokens': 10, 'total_tokens': 5899}), ToolMessage(content='This Paneer Butter Masala recipe is a rich and creamy dish of paneer (Indian cottage cheese) in a tomato, butter and cashew sauce that is known here as \"makhani gravy.\" The acidity of the tomatoes and the sweetness of the cream make for a velvety, nearly addictive sauce. Paneer Butter Masala is one of India\\'s most popular paneer gravy recipes, and with good reason! Indian cottage cheese cubes are smothered in a creamy, lightly spiced tomato sauce that is downright delicious. With my video and step-by-step guide you can easily make this restaurant style Paneer Butter Masala recipe at home! About Paneer Butter About Paneer Makhani Recipe. Paneer Makhani is a delectable, traditional Indian dish made with cubes of cheese cooked in a rich and creamy tomato based sauce. The word makhani means \"buttery,\" and is derived from the word makhan which means \"homemade butter.\" This dish is the vegetarian version of Murgh Makhani, which is commonly known ... Pour in tomato purée and ketchup: Pour in 1 (14.25 ounce) can tomato puree and 1 tablespoon ketchup; thin with water to desired consistency. Stir in peas and paneer: Stir in 1 (16 ounce) package frozen peas, thawed, and 8 ounces paneer, cubed; cook until peas soften, 2 to 3 minutes. Paneer: Use store-bought paneer from the Indian grocery store here in the USA (refrigerated or frozen section).To soften paneer, soak in warm water for 10-15 minutes before use. You can also make fresh paneer at home if time permits.; Green Peas: Frozen peas are convenient and work well; fresh peas are an excellent choice if available.; Onion: Use red onions for the best flavor in Indian cooking.', name='duckduckgo_search', id='34ece44c-11ee-48dc-bd4e-336c096a461d', tool_call_id='0d271213-5172-4c16-b525-b94838c6a907'), AIMessage(content='Okay, I will create a recipe for Paneer Butter Masala, drawing inspiration from the search results, but focusing on a healthier approach.\\n\\n**Recipe Name:** Healthier Paneer Tomato Masala\\n\\n**Description:** A creamy and flavorful Indian dish with paneer (Indian cheese) in a rich tomato-based sauce, made healthier with less butter and cream.\\n\\n**Ingredients:**\\n\\n*   1 tbsp Olive Oil (19)\\n*   1 medium Onion, chopped (66)\\n*   2 cloves Garlic, minced (3)\\n*   1 inch Ginger, grated (18)\\n*   1 tsp Turmeric powder (12)\\n*   1 tsp ground Cumin\\n*   1/2 tsp ground Coriander\\n*   1/4 tsp Cayenne Pepper (74)\\n*   1 (14.5 oz) can diced Tomatoes (23)\\n*   1/2 cup Water\\n*   8 oz Paneer, cubed\\n*   1/4 cup Greek Yogurt (15)\\n*   1/4 cup chopped Cilantro\\n*   Salt to taste\\n\\n**Instructions:**\\n\\n1.  **Sauté Aromatics:** Heat olive oil in a pan over medium heat. Add chopped onion and sauté until golden brown. Add minced garlic and grated ginger, and cook for another minute until fragrant.\\n2.  **Add Spices:** Stir in turmeric powder, cumin, coriander, and cayenne pepper. Cook for 30 seconds until fragrant.\\n3.  **Tomato Base:** Add diced tomatoes and water. Bring to a simmer, then reduce heat and cook for 10 minutes, stirring occasionally, until the sauce thickens slightly.\\n4.  **Add Paneer:** Gently add the cubed paneer to the sauce. Simmer for 5 minutes, allowing the paneer to absorb the flavors.\\n5.  **Creamy Finish:** Stir in the Greek yogurt and chopped cilantro. Cook for another 2 minutes. Season with salt to taste.\\n6.  **Serve:** Serve hot with brown rice or whole wheat roti.\\n\\n**Prep Time:** 15 minutes\\n**Cook Time:** 25 minutes\\n**Total Time:** 40 minutes\\n\\n**Nutritional Analysis (per serving, assuming 4 servings):**\\n\\n*   **Calories:** Approximately 300-350\\n*   **Protein:** 20-25g\\n*   **Fat:** 15-20g\\n*   **Carbohydrates:** 20-25g\\n*   **Fiber:** 5-7g\\n\\n**Notes:**\\n\\n*   For a richer flavor, you can add a small amount of butter (1 tsp) along with the olive oil.\\n*   Adjust the amount of cayenne pepper to your spice preference.\\n*   You can add a pinch of garam masala at the end for extra flavor.\\n*   Serve with a side of brown rice or whole wheat roti for a complete meal.\\n\\nThis recipe provides a balance of protein, healthy fats, and complex carbohydrates, making it a nutritious and satisfying meal.\\n', additional_kwargs={}, response_metadata={'safety_ratings': [], 'finish_reason': 'STOP'}, id='run-9325198c-ff08-4fce-8c39-c4f02609e9f0-0', usage_metadata={'input_tokens': 6275, 'output_tokens': 641, 'total_tokens': 6916})]}\nFor troubleshooting, visit: https://python.langchain.com/docs/troubleshooting/errors/MESSAGE_COERCION_FAILURE "
     ]
    }
   ],
   "source": [
    "# for s in workflow.stream(inputs, stream_mode=\"messages-tuple\"):\n",
    "first = True\n",
    "async for msg, metadata in workflow.astream(inputs, stream_mode=\"messages\"):\n",
    "    if msg.content and not isinstance(msg, HumanMessage):\n",
    "        print(msg.content, end=\"|\", flush=True)\n",
    "\n",
    "    if isinstance(msg, AIMessageChunk):\n",
    "        if first:\n",
    "            gathered = msg\n",
    "            first = False\n",
    "        else:\n",
    "            gathered = gathered + msg\n",
    "\n",
    "        if msg.tool_call_chunks:\n",
    "            print(gathered.tool_calls)\n",
    "    # message = s[\"messages\"][-1]\n",
    "    # if isinstance(message, tuple):\n",
    "    #     print(message)\n",
    "    # else:\n",
    "    #     # print(tool_calls)\n",
    "    #     message.pretty_print()"
   ]
  },
  {
   "cell_type": "code",
   "execution_count": null,
   "metadata": {},
   "outputs": [],
   "source": []
  }
 ],
 "metadata": {
  "kernelspec": {
   "display_name": "nlp",
   "language": "python",
   "name": "python3"
  },
  "language_info": {
   "codemirror_mode": {
    "name": "ipython",
    "version": 3
   },
   "file_extension": ".py",
   "mimetype": "text/x-python",
   "name": "python",
   "nbconvert_exporter": "python",
   "pygments_lexer": "ipython3",
   "version": "3.10.14"
  }
 },
 "nbformat": 4,
 "nbformat_minor": 2
}
