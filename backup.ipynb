{
 "cells": [
  {
   "cell_type": "code",
   "execution_count": null,
   "metadata": {
    "vscode": {
     "languageId": "plaintext"
    }
   },
   "outputs": [],
   "source": [
    "def fetch_food_info(food_name):\n",
    "    \"\"\"\n",
    "    Retrieve nutritional information about a specific food from the dataset.\n",
    "\n",
    "    Args:\n",
    "        food_name (str): The name of the food to search for.\n",
    "\n",
    "    Returns:\n",
    "        str: Nutritional information or an error message if the food is not found.\n",
    "    \"\"\"\n",
    "    result = df[df['Food'].str.contains(food_name, case=False, na=False)]\n",
    "\n",
    "    if not result.empty:\n",
    "        # Convert the first matching row to a dictionary for output\n",
    "        food_data = result.iloc[0].to_dict()\n",
    "\n",
    "        # Format the output for readability\n",
    "        return (\n",
    "            f\"Nutritional Information for {food_data['Food']}:\\n\"\n",
    "            f\"- Originated From: {food_data['Originated From']}\\n\"\n",
    "            f\"- Nutrition Value (per 100g): {food_data['Nutrition Value (per 100g)']}\\n\"\n",
    "            f\"- Quantity: {food_data['Quantity (g)']} g\\n\"  # Updated to use Quantity (g)\n",
    "            f\"- Calories: {food_data['Calories']} kcal\\n\"\n",
    "            f\"- Protein: {food_data['Protein (g)']} g\\n\"\n",
    "            f\"- Fiber: {food_data['Fiber (g)']} g\\n\"\n",
    "            f\"- Vitamin C: {food_data['Vitamin C (mg)']} mg\\n\"\n",
    "            f\"- Antioxidant Score: {food_data['Antioxidant Score']}\\n\"\n",
    "        )\n",
    "    else:\n",
    "        return f\"No information found for {food_name}.\""
   ]
  },
  {
   "cell_type": "code",
   "execution_count": null,
   "metadata": {
    "vscode": {
     "languageId": "plaintext"
    }
   },
   "outputs": [],
   "source": [
    "print(fetch_food_info(\"Kale\"))\n",
    "print(fetch_food_info(\"Garlic\"))\n",
    "print(fetch_food_info(\"unknown food\"))"
   ]
  },
  {
   "cell_type": "code",
   "execution_count": null,
   "metadata": {
    "vscode": {
     "languageId": "plaintext"
    }
   },
   "outputs": [],
   "source": []
  },
  {
   "cell_type": "code",
   "execution_count": null,
   "metadata": {
    "vscode": {
     "languageId": "plaintext"
    }
   },
   "outputs": [],
   "source": []
  },
  {
   "cell_type": "code",
   "execution_count": null,
   "metadata": {
    "vscode": {
     "languageId": "plaintext"
    }
   },
   "outputs": [],
   "source": [
    "\n",
    "# Initialize PythonAstREPLTool\n",
    "python_tool = PythonAstREPLTool(globals = {\"df\": df})\n",
    "\n",
    "# Test the tool with the DataFrame explicitly loaded in the script\n",
    "nutrition_script = \"\"\"\n",
    "def fetch_food_info(food_name):\n",
    "    result = df[df['Food'].str.contains(food_name, case=False, na=False)]\n",
    "    if not result.empty:\n",
    "        food_data = result.iloc[0].to_dict()\n",
    "        return (\n",
    "            f\"Nutritional Information for {food_data['Food']}:\\\\n\"\n",
    "            f\"- Originated From: {food_data['Originated From']}\\\\n\"\n",
    "            f\"- Nutrition Value (per 100g): {food_data['Nutrition Value (per 100g)']}\\\\n\"\n",
    "            f\"- Quantity: {food_data['Quantity (g)']} g\\\\n\"\n",
    "            f\"- Calories: {food_data['Calories']} kcal\\\\n\"\n",
    "            f\"- Protein: {food_data['Protein (g)']} g\\\\n\"\n",
    "            f\"- Fiber: {food_data['Fiber (g)']} g\\\\n\"\n",
    "            f\"- Vitamin C: {food_data['Vitamin C (mg)']} mg\\\\n\"\n",
    "            f\"- Antioxidant Score: {food_data['Antioxidant Score']}\\\\n\"\n",
    "        )\n",
    "    else:\n",
    "        return f\"No information found for {food_name}.\"\n",
    "\n",
    "fetch_food_info(\"Apple\")\n",
    "\"\"\"\n",
    "nutrition = python_tool.invoke(nutrition_script)\n",
    "print(nutrition)\n"
   ]
  },
  {
   "cell_type": "code",
   "execution_count": null,
   "metadata": {
    "vscode": {
     "languageId": "plaintext"
    }
   },
   "outputs": [],
   "source": [
    "visualization_script = \"\"\"\n",
    "import matplotlib.pyplot as plt\n",
    "def plot_food_info(food_name):\n",
    "    # Ensure DataFrame 'df' exists\n",
    "    if 'df' not in globals():\n",
    "        return \"Error: DataFrame 'df' is not defined.\"\n",
    "\n",
    "    # Filter the DataFrame for the food item\n",
    "    result = df[df['Food'].str.contains(food_name, case=False, na=False)]\n",
    "    if not result.empty:\n",
    "        \n",
    "        food_data = result.iloc[0].to_dict()\n",
    "        \n",
    "        # Prepare data for plotting\n",
    "        labels = ['Calories', 'Protein (g)', 'Fiber (g)', 'Vitamin C (mg)']\n",
    "        values = [food_data['Calories'], food_data['Protein (g)'], food_data['Fiber (g)'], food_data['Vitamin C (mg)']]\n",
    "        \n",
    "        # Debug: Confirm data for the plot\n",
    "        print(\"Labels:\", labels)\n",
    "        print(\"Values:\", values)\n",
    "        import matplotlib.pyplot as plt\n",
    "        # Create the bar plot\n",
    "        plt.bar(labels, values, color=['teal', 'blue', 'aquamarine', 'seagreen'])\n",
    "        plt.title(f'Nutritional Breakdown for {food_name}')\n",
    "        plt.ylabel('Value')\n",
    "        plt.savefig(f'{food_name}_nutrition.png')  # Save the plot\n",
    "\n",
    "        return f'Plot saved as {food_name}_nutrition.png'\n",
    "    else:\n",
    "        return f\"No information found for {food_name}.\"\n",
    "\n",
    "# Call the function\n",
    "plot_food_info(\"Apple\")\n",
    "\"\"\"\n",
    "\n",
    "visual = python_tool.invoke(visualization_script)\n",
    "print(visual)\n"
   ]
  },
  {
   "cell_type": "code",
   "execution_count": null,
   "metadata": {
    "vscode": {
     "languageId": "plaintext"
    }
   },
   "outputs": [],
   "source": [
    "fetch_tool_description = \"\"\"\n",
    "A Python-based tool to retrieve detailed nutritional information for a specific food item.\n",
    "Input: A food name (e.g., \"Apple\").\n",
    "Output: A string containing the food's nutritional breakdown and details.\n",
    "\"\"\"\n",
    "\n",
    "# Tool for plotting nutritional data\n",
    "plot_tool_description = \"\"\"\n",
    "A Python-based tool to generate a bar chart of the nutritional breakdown of a specific food item.\n",
    "Input: A food name (e.g., \"Apple\").\n",
    "Output: The filename of the saved bar chart (e.g., \"Apple_nutrition.png\").\n",
    "\"\"\""
   ]
  },
  {
   "cell_type": "code",
   "execution_count": null,
   "metadata": {
    "vscode": {
     "languageId": "plaintext"
    }
   },
   "outputs": [],
   "source": [
    "chat_model.invoke([(\"human\", \"Hello how are you?\")])"
   ]
  },
  {
   "cell_type": "code",
   "execution_count": null,
   "metadata": {
    "vscode": {
     "languageId": "plaintext"
    }
   },
   "outputs": [],
   "source": [
    "Following is a prompt for one of the agents I have created (for zero-shot react)\n",
    "\n",
    "You are the best Professional Analyst working at Powerkiosk. You are collaborating with an SQL agent, a Summarizing agent, and a Writer Bot to respond to incoming emails.\n",
    "You are provided with a conversation and other notes from your colleague bots, which will help identify any relevant information/reasons/logic in the company's database.\n",
    "Your role is to only do the analysis of the email attachments given to you in python.\n",
    "\n",
    "Guidelines:\n",
    "1. Break down the task at hand into multiple simpler steps and execute them one by one.\n",
    "2. Use the provided pandas dataframes (df1, df2, etc.) as needed.\n",
    "3. Do not assume any data that isn't present in the attachmed dataframes.\n",
    "4. If unable to fully answer, make progress and escalate the issue to the Ops Team.\n",
    "5. You should NEVER create your own dataframes. They have already been created for you and loaded in the environment.\n",
    "6. ONLY use the following tools to do the analysis and decide if the attachments are relevant to the given email: [{tools}]\n",
    "7. Action should ALWAYS be just the name of the tool (Hefty fines otherwise)!\n",
    "8. You should STRICTLY check the dataframes present in the environment only by executing [df for df in locals()] and nothing else. \n",
    "\n",
    "Use the following format:\n",
    "1. Email Chain and Analysis from other bots: The input email chain and the response from SQL and summarizing agents. Return only the analysis.\n",
    "2. Thought: you should always think about what to do\n",
    "3. Action: the tool (action) to use (perform), should be one of [{tool_names}]\n",
    "4. Action Input: Input for the tool (action). (Should ALWAYS be a valid python command with nothing else, otherwise you will be penalized.)\n",
    "5. DO NOT wrap your code within python.\n",
    "6. Observation: Result of the tool (action).\n",
    "... (repeat Thought/Action/Action Input/Observation as needed)\n",
    "7. Thought: I now know the final answer.\n",
    "8. Final Answer: The final analysis of the attachments (Prefix with 'Final Answer: Notes for Writer Bot: ').\n",
    "\n",
    "---\n",
    "\n",
    "Begin!\n",
    "\n",
    "Email Chain and Analysis from other bots: {input}\n",
    "\n",
    "Thought: I should first check the number of dataframes loaded in the environment, and see if any useful data is present so that the writer bot can use it.\n",
    "{agent_scratchpad}"
   ]
  },
  {
   "cell_type": "code",
   "execution_count": null,
   "metadata": {
    "vscode": {
     "languageId": "plaintext"
    }
   },
   "outputs": [],
   "source": []
  },
  {
   "cell_type": "code",
   "execution_count": null,
   "metadata": {
    "vscode": {
     "languageId": "plaintext"
    }
   },
   "outputs": [],
   "source": [
    "system_prompt = PromptTemplate.from_template(\n",
    "\"\"\"\n",
    "You are a skilled culinary and nutrition expert, adept at creating delicious and nutritious recipes. Your task is to provide:\n",
    "\n",
    "1. Accurate Nutritional Information: ALWAYS Utilize the provided dataset given below to deliver precise nutritional values for various foods. \n",
    "    Only If a specific food isn't in the dataset, conduct a reliable online search using  to obtain accurate information.\n",
    "2. Detailed Numerical Values: When asked about nutrition in any food, always try to give quantifiable numerical values. Only if you are not able to find any values in the 'df' and online, give a descriptive answer.\n",
    "2. Detailed Recipes: Craft comprehensive recipes, including a clear title, a list of necessary ingredients, and step-by-step instructions.\n",
    "3. Engaging Visuals: When you return nutritious values, always include a plot that the user can see to visualize the values.\n",
    "Guidelines:\n",
    "- Prioritize Dataset: Always consult the `df` dataset first for nutritional values.\n",
    "- Online Verification: If the dataset lacks information, cross-reference with reputable online sources.\n",
    "- Clear and Concise: Present information in a clear, concise, and easy-to-understand manner.\n",
    "- Recipe Relevance: When suggesting recipes based on user-provided ingredients, prioritize those with the highest ingredient match.\n",
    "- Display Recipe: When asked for a recipe, give a detailed explaination on how to make it instead of asking them to search online.\n",
    "- Nutritional Insights: Provide context for nutritional values, explaining their significance and potential health benefits.\n",
    "\n",
    "Dataset Reference:\n",
    "\\n\"\"\" + df.to_markdown(index=True))"
   ]
  },
  {
   "cell_type": "code",
   "execution_count": null,
   "metadata": {
    "vscode": {
     "languageId": "plaintext"
    }
   },
   "outputs": [],
   "source": [
    "system_prompt = PromptTemplate.from_template(\n",
    "\"\"\"\n",
    "You are a highly skilled nutritionist, specializing in providing expert advice and creating personalized meal plans. Your primary goal is to help users achieve their dietary goals.\n",
    "\n",
    "You have access to a database of nutritional information from the prompt under dataset reference. Use this dataset to provide accurate and reliable information.\n",
    "If you do not find information under dataset reference, search the web using DuckDuckGo.\n",
    "guidelines:\n",
    "1. When asked about nutritional information, always give numerical values and visualize them using [{tools}]. First check if the information is available in Dataset Reference,\n",
    "only if it is not available here, use [{tools}] to search the web. \n",
    "Prioritize User Health: Always prioritize the user's health and well-being. Avoid providing advice that could be harmful or misleading.\n",
    "Evidence-Based Advice: Base your responses on scientific evidence and credible sources.\n",
    "Personalized Recommendations: Tailor your advice to the user's specific needs, preferences, and dietary restrictions.\n",
    "Clear and Concise: Explain complex nutritional concepts in simple terms.\n",
    "Positive and Encouraging: Motivate users to make healthy choices.\n",
    "Here's a breakdown of your role:\n",
    "\n",
    "Answering Questions: Provide clear and concise answers to users' questions along with numeric values about nutrition with plots, diet, and health.\n",
    "Creating Personalized Meal Plans: Develop tailored meal plans based on the user's goals, preferences, and dietary restrictions.\n",
    "Providing Recipe Recommendations: Offer healthy and delicious detailed recipes with ingredient list, steps, prep time and overall nutrition of the dish.\n",
    "Addressing Dietary Concerns: Help users manage food allergies, intolerances, and other dietary issues.\n",
    "Dataset Reference:\n",
    "\\n\"\"\" + df.to_markdown(index=True))"
   ]
  },
  {
   "cell_type": "code",
   "execution_count": null,
   "metadata": {
    "vscode": {
     "languageId": "plaintext"
    }
   },
   "outputs": [],
   "source": []
  }
 ],
 "metadata": {
  "language_info": {
   "name": "python"
  }
 },
 "nbformat": 4,
 "nbformat_minor": 2
}
